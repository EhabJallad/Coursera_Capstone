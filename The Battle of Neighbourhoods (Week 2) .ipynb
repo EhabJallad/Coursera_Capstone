{
 "cells": [
  {
   "cell_type": "markdown",
   "metadata": {},
   "source": [
    "<h1> Capstone Project - The Battle of the Neighborhoods (Week 2) </h1>\n",
    "    <h3>Applied Data Science Capstone by IBM/Coursera</h3>"
   ]
  },
  {
   "cell_type": "markdown",
   "metadata": {},
   "source": [
    "## Table of contents:\n",
    "* [Introduction: Business Problem](#businessProblem)\n",
    "* [Data](#data)\n",
    "* [Methodology](#methodology)\n",
    "* [Code](#code)\n",
    "* [Results and Discussion](#results)\n",
    "* [Conclusion](#conclusion)"
   ]
  },
  {
   "cell_type": "markdown",
   "metadata": {},
   "source": [
    "## Introduction: Business Problem <a name=\"businessProblem\"></a>"
   ]
  },
  {
   "cell_type": "markdown",
   "metadata": {},
   "source": [
    "<p> The goal of this project is to find the best locations to open a new restaurant in Washington D.C, the areas this project will focus on are were not expensive(example : land value and renting costs), that don't have many resturants  and that have the largest population.\n",
    "    \n",
    "Data science techniques will be used to make the process of finding these areas much more efficient.</p>"
   ]
  },
  {
   "cell_type": "markdown",
   "metadata": {},
   "source": [
    "## Data <a name=\"data\"></a>"
   ]
  },
  {
   "cell_type": "markdown",
   "metadata": {},
   "source": [
    "The factors that will influence the best locations are;\n",
    "* Locations of restaurants in the neighbourhoods Washington D.C according to their latitude and longitude\n",
    "* Restaurants neighbourhoods in Washington D.C (from Foursquare API )"
   ]
  },
  {
   "cell_type": "markdown",
   "metadata": {},
   "source": [
    "## Methodology <a name=\"methodology\"></a>"
   ]
  },
  {
   "cell_type": "markdown",
   "metadata": {},
   "source": [
    "<b>first step : </b> <span> Washington D.C data will be collected from <br/>a) https://opendata.arcgis.com/datasets/071aa9b40a1a4b38a938f8f5058068a8_18.csv: <br/>b)https://en.wikipedia.org/wiki/Neighborhoods_in_Washington,_D.C. </span>\n",
    "\n",
    "<b>Second step : </b> <span> FourSquare API will be used to find all the Resturants of each neighborhood of Washington D.C. </span>\n",
    "\n",
    "<b>Third step : </b> <span> Data about the Restuarant will be explored  </span>\n",
    "\n",
    "\n",
    "<b>Fourth step : </b> <span> Data about the Restuarant will be visualized  </span>\n",
    "\n"
   ]
  },
  {
   "cell_type": "markdown",
   "metadata": {},
   "source": [
    "## Code <a name=\"code\"></a>"
   ]
  },
  {
   "cell_type": "markdown",
   "metadata": {},
   "source": [
    "<h3>Importing libraries</h3>"
   ]
  },
  {
   "cell_type": "code",
   "execution_count": 1,
   "metadata": {},
   "outputs": [],
   "source": [
    "import pandas as pd\n",
    "import numpy as np\n",
    "import requests\n",
    "from bs4 import BeautifulSoup\n",
    "import folium \n",
    "import matplotlib.pyplot as plt\n",
    "import json\n",
    "import pygeoj\n",
    "\n",
    "import geocoder\n",
    "\n",
    "from geopy.geocoders import Nominatim # convert an address into latitude and longitude values\n"
   ]
  },
  {
   "cell_type": "markdown",
   "metadata": {},
   "source": [
    "<h3>Getting Washington D.C data</h3>"
   ]
  },
  {
   "cell_type": "code",
   "execution_count": 2,
   "metadata": {},
   "outputs": [],
   "source": [
    "\n",
    "#function to get Washington D.C data\n",
    "\n",
    "\n",
    "def washingtonDC_data():\n",
    "#part 1 : Extracting washington city neighborhoods,latitudes and longitudes from a csv file\n",
    "    washingtonDCTable = pd.DataFrame({ 'Neighborhood': [], 'Latitude':[], 'Longitude':[], 'Ward':[]})\n",
    "    url = \"https://opendata.arcgis.com/datasets/071aa9b40a1a4b38a938f8f5058068a8_18.csv\"\n",
    "    df = pd.read_csv(url)\n",
    "    #Looping through the csv file to create the columns of Neighborhood,latitude,longitude and and empty ward column.\n",
    "    for index, row in df.iterrows():\n",
    "        Neighborhood = row[\"NAME\"]\n",
    "        latitude = row[\"X\"]\n",
    "        longitude = row[\"Y\"]\n",
    "        washingtonDCTable  = washingtonDCTable.append({\"Neighborhood\":Neighborhood,'Latitude':latitude,\"Longitude\":longitude,'Ward':\"?\"}, ignore_index=True)\n",
    "        \n",
    "    #part 2: Web scraping a wikipedia page for wards of Washington D.C.\n",
    "    url2 = \"https://en.wikipedia.org/wiki/Neighborhoods_in_Washington,_D.C.\"\n",
    "    website = requests.get(url2)\n",
    "    website = website.text\n",
    "    soup = BeautifulSoup(website,'lxml')\n",
    "    Neighbourhoods = soup.find_all(\"ul\")\n",
    "    Neighbourhoods = Neighbourhoods[2:10]\n",
    "    wards = soup.find_all(\"span\", {\"class\": \"mw-headline\"})\n",
    "    \n",
    "    ListNeighbour1= []\n",
    "    \n",
    "    #appending all of the elements of each of the website ward lists into a \"python lists\"\n",
    "    for n in Neighbourhoods:\n",
    "        li = n.find_all(\"li\")\n",
    "        ListNeighbour1.append(li)\n",
    "        \n",
    "    #Loop to make sure that the ListNeighbour list only contain \"wards\" and nothing else.\n",
    "    for ward in wards:\n",
    "        wardText = ward.getText()\n",
    "        if wardText[0:4] != \"Ward\":\n",
    "            wards.remove(ward)\n",
    "             \n",
    "    \n",
    "    #Four nested loops!\n",
    "    \n",
    "    #First loop : it will go through each element from the ListNeighbour list that was created earlier\n",
    "    for n1 , ward in zip(ListNeighbour1,wards):\n",
    "        \n",
    "        ward = ward.getText() \n",
    "        #Second Loop : Goes through each list item of each list element.\n",
    "        for n2 in n1:\n",
    "                n2 = n2.getText()\n",
    "                # Loop 3 :Going through each value in the Neighborhood column\n",
    "                for ind in washingtonDCTable.index:\n",
    "                    neighbor = washingtonDCTable['Neighborhood'][ind] \n",
    "                    \n",
    "                    if n2 == neighbor: #checking if the Neighborhood value of the table equals another value \n",
    "                    #of neighborhood value from the scrapped page.\n",
    "                        #Loop 4 :going through each row of the table\n",
    "                        for index, row in washingtonDCTable.iterrows():\n",
    "                            value = row['Neighborhood'] # value variable contains each row of the table.\n",
    "                            \n",
    "                            if n2 == value:\n",
    "                                washingtonDCTable.at[index,'Ward'] = ward #Assigning each Neighborhood with it's corresponding ward value.\n",
    "                                 \n",
    "                    \n",
    "    return washingtonDCTable\n",
    "    \n",
    "        \n",
    "    \n",
    "    \n"
   ]
  },
  {
   "cell_type": "code",
   "execution_count": 3,
   "metadata": {},
   "outputs": [
    {
     "name": "stdout",
     "output_type": "stream",
     "text": [
      "              Neighborhood   Latitude  Longitude    Ward\n",
      "0             Fort Stanton -76.980348  38.855658  Ward 7\n",
      "1         Congress Heights -76.997950  38.841077  Ward 8\n",
      "2     Washington Highlands -76.995636  38.830237  Ward 8\n",
      "3                 Bellevue -77.009271  38.826952  Ward 8\n",
      "4    Knox Hill/Buena Vista -76.967660  38.853688       ?\n",
      "..                     ...        ...        ...     ...\n",
      "127        Fort Davis Park -76.944670  38.868901       ?\n",
      "128        Fairfax Village -76.951630  38.863453  Ward 7\n",
      "129              Hillcrest -76.960688  38.861794  Ward 7\n",
      "130              Crestwood -77.041097  38.943327  Ward 4\n",
      "131    Mount Vernon Square -77.023313  38.904340       ?\n",
      "\n",
      "[132 rows x 4 columns]\n"
     ]
    }
   ],
   "source": [
    "print(washingtonDC_data())\n",
    "\n",
    "# storing Washingtn D.C data in a variable\n",
    "WashingtonDC = washingtonDC_data()\n"
   ]
  },
  {
   "cell_type": "code",
   "execution_count": 4,
   "metadata": {},
   "outputs": [
    {
     "data": {
      "text/html": [
       "<div>\n",
       "<style scoped>\n",
       "    .dataframe tbody tr th:only-of-type {\n",
       "        vertical-align: middle;\n",
       "    }\n",
       "\n",
       "    .dataframe tbody tr th {\n",
       "        vertical-align: top;\n",
       "    }\n",
       "\n",
       "    .dataframe thead th {\n",
       "        text-align: right;\n",
       "    }\n",
       "</style>\n",
       "<table border=\"1\" class=\"dataframe\">\n",
       "  <thead>\n",
       "    <tr style=\"text-align: right;\">\n",
       "      <th></th>\n",
       "      <th>Neighborhood</th>\n",
       "      <th>Latitude</th>\n",
       "      <th>Longitude</th>\n",
       "      <th>Ward</th>\n",
       "    </tr>\n",
       "  </thead>\n",
       "  <tbody>\n",
       "    <tr>\n",
       "      <th>0</th>\n",
       "      <td>Fort Stanton</td>\n",
       "      <td>-76.980348</td>\n",
       "      <td>38.855658</td>\n",
       "      <td>Ward 7</td>\n",
       "    </tr>\n",
       "    <tr>\n",
       "      <th>1</th>\n",
       "      <td>Congress Heights</td>\n",
       "      <td>-76.997950</td>\n",
       "      <td>38.841077</td>\n",
       "      <td>Ward 8</td>\n",
       "    </tr>\n",
       "    <tr>\n",
       "      <th>2</th>\n",
       "      <td>Washington Highlands</td>\n",
       "      <td>-76.995636</td>\n",
       "      <td>38.830237</td>\n",
       "      <td>Ward 8</td>\n",
       "    </tr>\n",
       "    <tr>\n",
       "      <th>3</th>\n",
       "      <td>Bellevue</td>\n",
       "      <td>-77.009271</td>\n",
       "      <td>38.826952</td>\n",
       "      <td>Ward 8</td>\n",
       "    </tr>\n",
       "    <tr>\n",
       "      <th>4</th>\n",
       "      <td>Knox Hill/Buena Vista</td>\n",
       "      <td>-76.967660</td>\n",
       "      <td>38.853688</td>\n",
       "      <td>?</td>\n",
       "    </tr>\n",
       "    <tr>\n",
       "      <th>5</th>\n",
       "      <td>Shipley</td>\n",
       "      <td>-76.972902</td>\n",
       "      <td>38.846860</td>\n",
       "      <td>?</td>\n",
       "    </tr>\n",
       "    <tr>\n",
       "      <th>6</th>\n",
       "      <td>Douglass</td>\n",
       "      <td>-76.979645</td>\n",
       "      <td>38.847571</td>\n",
       "      <td>Ward 8</td>\n",
       "    </tr>\n",
       "    <tr>\n",
       "      <th>7</th>\n",
       "      <td>Woodland</td>\n",
       "      <td>-76.973926</td>\n",
       "      <td>38.856554</td>\n",
       "      <td>Ward 8</td>\n",
       "    </tr>\n",
       "    <tr>\n",
       "      <th>8</th>\n",
       "      <td>Garfield Heights</td>\n",
       "      <td>-76.972213</td>\n",
       "      <td>38.854085</td>\n",
       "      <td>Ward 8</td>\n",
       "    </tr>\n",
       "    <tr>\n",
       "      <th>9</th>\n",
       "      <td>Near Southeast</td>\n",
       "      <td>-77.000627</td>\n",
       "      <td>38.878384</td>\n",
       "      <td>?</td>\n",
       "    </tr>\n",
       "    <tr>\n",
       "      <th>10</th>\n",
       "      <td>Capitol Hill</td>\n",
       "      <td>-76.998477</td>\n",
       "      <td>38.883621</td>\n",
       "      <td>Ward 6</td>\n",
       "    </tr>\n",
       "    <tr>\n",
       "      <th>11</th>\n",
       "      <td>Dupont Park</td>\n",
       "      <td>-76.962818</td>\n",
       "      <td>38.872630</td>\n",
       "      <td>Ward 7</td>\n",
       "    </tr>\n",
       "    <tr>\n",
       "      <th>12</th>\n",
       "      <td>Twining</td>\n",
       "      <td>-76.960847</td>\n",
       "      <td>38.875588</td>\n",
       "      <td>Ward 7</td>\n",
       "    </tr>\n",
       "    <tr>\n",
       "      <th>13</th>\n",
       "      <td>Randle Highlands</td>\n",
       "      <td>-76.965804</td>\n",
       "      <td>38.869336</td>\n",
       "      <td>Ward 7</td>\n",
       "    </tr>\n",
       "    <tr>\n",
       "      <th>14</th>\n",
       "      <td>Fairlawn</td>\n",
       "      <td>-76.977452</td>\n",
       "      <td>38.869158</td>\n",
       "      <td>Ward 8</td>\n",
       "    </tr>\n",
       "    <tr>\n",
       "      <th>15</th>\n",
       "      <td>Penn Branch</td>\n",
       "      <td>-76.953424</td>\n",
       "      <td>38.869560</td>\n",
       "      <td>Ward 7</td>\n",
       "    </tr>\n",
       "    <tr>\n",
       "      <th>16</th>\n",
       "      <td>Barry Farm</td>\n",
       "      <td>-76.997281</td>\n",
       "      <td>38.859255</td>\n",
       "      <td>Ward 8</td>\n",
       "    </tr>\n",
       "    <tr>\n",
       "      <th>17</th>\n",
       "      <td>Historic Anacostia</td>\n",
       "      <td>-76.984678</td>\n",
       "      <td>38.863186</td>\n",
       "      <td>?</td>\n",
       "    </tr>\n",
       "    <tr>\n",
       "      <th>18</th>\n",
       "      <td>Columbia Heights</td>\n",
       "      <td>-77.030586</td>\n",
       "      <td>38.928008</td>\n",
       "      <td>Ward 1</td>\n",
       "    </tr>\n",
       "    <tr>\n",
       "      <th>19</th>\n",
       "      <td>Logan Circle/Shaw</td>\n",
       "      <td>-77.025340</td>\n",
       "      <td>38.909816</td>\n",
       "      <td>?</td>\n",
       "    </tr>\n",
       "  </tbody>\n",
       "</table>\n",
       "</div>"
      ],
      "text/plain": [
       "             Neighborhood   Latitude  Longitude    Ward\n",
       "0            Fort Stanton -76.980348  38.855658  Ward 7\n",
       "1        Congress Heights -76.997950  38.841077  Ward 8\n",
       "2    Washington Highlands -76.995636  38.830237  Ward 8\n",
       "3                Bellevue -77.009271  38.826952  Ward 8\n",
       "4   Knox Hill/Buena Vista -76.967660  38.853688       ?\n",
       "5                 Shipley -76.972902  38.846860       ?\n",
       "6                Douglass -76.979645  38.847571  Ward 8\n",
       "7                Woodland -76.973926  38.856554  Ward 8\n",
       "8        Garfield Heights -76.972213  38.854085  Ward 8\n",
       "9          Near Southeast -77.000627  38.878384       ?\n",
       "10           Capitol Hill -76.998477  38.883621  Ward 6\n",
       "11            Dupont Park -76.962818  38.872630  Ward 7\n",
       "12                Twining -76.960847  38.875588  Ward 7\n",
       "13       Randle Highlands -76.965804  38.869336  Ward 7\n",
       "14               Fairlawn -76.977452  38.869158  Ward 8\n",
       "15            Penn Branch -76.953424  38.869560  Ward 7\n",
       "16             Barry Farm -76.997281  38.859255  Ward 8\n",
       "17     Historic Anacostia -76.984678  38.863186       ?\n",
       "18       Columbia Heights -77.030586  38.928008  Ward 1\n",
       "19      Logan Circle/Shaw -77.025340  38.909816       ?"
      ]
     },
     "execution_count": 4,
     "metadata": {},
     "output_type": "execute_result"
    }
   ],
   "source": [
    "#Displaying WashingtonDc data\n",
    "WashingtonDC.head(20)\n",
    "\n"
   ]
  },
  {
   "cell_type": "markdown",
   "metadata": {},
   "source": [
    "<h3>Analyzing Washington D.C data</h3>"
   ]
  },
  {
   "cell_type": "code",
   "execution_count": 5,
   "metadata": {},
   "outputs": [
    {
     "data": {
      "text/plain": [
       "132"
      ]
     },
     "execution_count": 5,
     "metadata": {},
     "output_type": "execute_result"
    }
   ],
   "source": [
    "WashingtonDC[\"Neighborhood\"].count()"
   ]
  },
  {
   "cell_type": "markdown",
   "metadata": {},
   "source": [
    "<p>So there are 132 Neighborhoods in Washington D.C</p>\n",
    "<p>But the problem is that there are many rows of Ward column that contains the value \"?\" , so these rows should be removed</p>"
   ]
  },
  {
   "cell_type": "code",
   "execution_count": 6,
   "metadata": {},
   "outputs": [],
   "source": [
    "WashingtonDC = WashingtonDC[WashingtonDC.Ward != \"?\"]\n"
   ]
  },
  {
   "cell_type": "code",
   "execution_count": 7,
   "metadata": {},
   "outputs": [
    {
     "data": {
      "text/html": [
       "<div>\n",
       "<style scoped>\n",
       "    .dataframe tbody tr th:only-of-type {\n",
       "        vertical-align: middle;\n",
       "    }\n",
       "\n",
       "    .dataframe tbody tr th {\n",
       "        vertical-align: top;\n",
       "    }\n",
       "\n",
       "    .dataframe thead th {\n",
       "        text-align: right;\n",
       "    }\n",
       "</style>\n",
       "<table border=\"1\" class=\"dataframe\">\n",
       "  <thead>\n",
       "    <tr style=\"text-align: right;\">\n",
       "      <th></th>\n",
       "      <th>Neighborhood</th>\n",
       "      <th>Latitude</th>\n",
       "      <th>Longitude</th>\n",
       "      <th>Ward</th>\n",
       "    </tr>\n",
       "  </thead>\n",
       "  <tbody>\n",
       "    <tr>\n",
       "      <th>0</th>\n",
       "      <td>Fort Stanton</td>\n",
       "      <td>-76.980348</td>\n",
       "      <td>38.855658</td>\n",
       "      <td>Ward 7</td>\n",
       "    </tr>\n",
       "    <tr>\n",
       "      <th>1</th>\n",
       "      <td>Congress Heights</td>\n",
       "      <td>-76.997950</td>\n",
       "      <td>38.841077</td>\n",
       "      <td>Ward 8</td>\n",
       "    </tr>\n",
       "    <tr>\n",
       "      <th>2</th>\n",
       "      <td>Washington Highlands</td>\n",
       "      <td>-76.995636</td>\n",
       "      <td>38.830237</td>\n",
       "      <td>Ward 8</td>\n",
       "    </tr>\n",
       "    <tr>\n",
       "      <th>3</th>\n",
       "      <td>Bellevue</td>\n",
       "      <td>-77.009271</td>\n",
       "      <td>38.826952</td>\n",
       "      <td>Ward 8</td>\n",
       "    </tr>\n",
       "    <tr>\n",
       "      <th>6</th>\n",
       "      <td>Douglass</td>\n",
       "      <td>-76.979645</td>\n",
       "      <td>38.847571</td>\n",
       "      <td>Ward 8</td>\n",
       "    </tr>\n",
       "    <tr>\n",
       "      <th>7</th>\n",
       "      <td>Woodland</td>\n",
       "      <td>-76.973926</td>\n",
       "      <td>38.856554</td>\n",
       "      <td>Ward 8</td>\n",
       "    </tr>\n",
       "    <tr>\n",
       "      <th>8</th>\n",
       "      <td>Garfield Heights</td>\n",
       "      <td>-76.972213</td>\n",
       "      <td>38.854085</td>\n",
       "      <td>Ward 8</td>\n",
       "    </tr>\n",
       "    <tr>\n",
       "      <th>10</th>\n",
       "      <td>Capitol Hill</td>\n",
       "      <td>-76.998477</td>\n",
       "      <td>38.883621</td>\n",
       "      <td>Ward 6</td>\n",
       "    </tr>\n",
       "    <tr>\n",
       "      <th>11</th>\n",
       "      <td>Dupont Park</td>\n",
       "      <td>-76.962818</td>\n",
       "      <td>38.872630</td>\n",
       "      <td>Ward 7</td>\n",
       "    </tr>\n",
       "    <tr>\n",
       "      <th>12</th>\n",
       "      <td>Twining</td>\n",
       "      <td>-76.960847</td>\n",
       "      <td>38.875588</td>\n",
       "      <td>Ward 7</td>\n",
       "    </tr>\n",
       "    <tr>\n",
       "      <th>13</th>\n",
       "      <td>Randle Highlands</td>\n",
       "      <td>-76.965804</td>\n",
       "      <td>38.869336</td>\n",
       "      <td>Ward 7</td>\n",
       "    </tr>\n",
       "    <tr>\n",
       "      <th>14</th>\n",
       "      <td>Fairlawn</td>\n",
       "      <td>-76.977452</td>\n",
       "      <td>38.869158</td>\n",
       "      <td>Ward 8</td>\n",
       "    </tr>\n",
       "    <tr>\n",
       "      <th>15</th>\n",
       "      <td>Penn Branch</td>\n",
       "      <td>-76.953424</td>\n",
       "      <td>38.869560</td>\n",
       "      <td>Ward 7</td>\n",
       "    </tr>\n",
       "    <tr>\n",
       "      <th>16</th>\n",
       "      <td>Barry Farm</td>\n",
       "      <td>-76.997281</td>\n",
       "      <td>38.859255</td>\n",
       "      <td>Ward 8</td>\n",
       "    </tr>\n",
       "    <tr>\n",
       "      <th>18</th>\n",
       "      <td>Columbia Heights</td>\n",
       "      <td>-77.030586</td>\n",
       "      <td>38.928008</td>\n",
       "      <td>Ward 1</td>\n",
       "    </tr>\n",
       "    <tr>\n",
       "      <th>22</th>\n",
       "      <td>Forest Hills</td>\n",
       "      <td>-77.058462</td>\n",
       "      <td>38.946893</td>\n",
       "      <td>Ward 3</td>\n",
       "    </tr>\n",
       "    <tr>\n",
       "      <th>25</th>\n",
       "      <td>Fort Totten</td>\n",
       "      <td>-77.008128</td>\n",
       "      <td>38.949430</td>\n",
       "      <td>Ward 5</td>\n",
       "    </tr>\n",
       "    <tr>\n",
       "      <th>26</th>\n",
       "      <td>Pleasant Hill</td>\n",
       "      <td>-77.004804</td>\n",
       "      <td>38.941079</td>\n",
       "      <td>Ward 5</td>\n",
       "    </tr>\n",
       "    <tr>\n",
       "      <th>27</th>\n",
       "      <td>Kenilworth</td>\n",
       "      <td>-76.938586</td>\n",
       "      <td>38.910679</td>\n",
       "      <td>Ward 7</td>\n",
       "    </tr>\n",
       "    <tr>\n",
       "      <th>28</th>\n",
       "      <td>Eastland Gardens</td>\n",
       "      <td>-76.943070</td>\n",
       "      <td>38.905329</td>\n",
       "      <td>Ward 7</td>\n",
       "    </tr>\n",
       "  </tbody>\n",
       "</table>\n",
       "</div>"
      ],
      "text/plain": [
       "            Neighborhood   Latitude  Longitude    Ward\n",
       "0           Fort Stanton -76.980348  38.855658  Ward 7\n",
       "1       Congress Heights -76.997950  38.841077  Ward 8\n",
       "2   Washington Highlands -76.995636  38.830237  Ward 8\n",
       "3               Bellevue -77.009271  38.826952  Ward 8\n",
       "6               Douglass -76.979645  38.847571  Ward 8\n",
       "7               Woodland -76.973926  38.856554  Ward 8\n",
       "8       Garfield Heights -76.972213  38.854085  Ward 8\n",
       "10          Capitol Hill -76.998477  38.883621  Ward 6\n",
       "11           Dupont Park -76.962818  38.872630  Ward 7\n",
       "12               Twining -76.960847  38.875588  Ward 7\n",
       "13      Randle Highlands -76.965804  38.869336  Ward 7\n",
       "14              Fairlawn -76.977452  38.869158  Ward 8\n",
       "15           Penn Branch -76.953424  38.869560  Ward 7\n",
       "16            Barry Farm -76.997281  38.859255  Ward 8\n",
       "18      Columbia Heights -77.030586  38.928008  Ward 1\n",
       "22          Forest Hills -77.058462  38.946893  Ward 3\n",
       "25           Fort Totten -77.008128  38.949430  Ward 5\n",
       "26         Pleasant Hill -77.004804  38.941079  Ward 5\n",
       "27            Kenilworth -76.938586  38.910679  Ward 7\n",
       "28      Eastland Gardens -76.943070  38.905329  Ward 7"
      ]
     },
     "execution_count": 7,
     "metadata": {},
     "output_type": "execute_result"
    }
   ],
   "source": [
    "WashingtonDC.head(20)"
   ]
  },
  {
   "cell_type": "markdown",
   "metadata": {},
   "source": [
    "<p>So this is the new table</p>"
   ]
  },
  {
   "cell_type": "code",
   "execution_count": 8,
   "metadata": {},
   "outputs": [
    {
     "data": {
      "text/plain": [
       "91"
      ]
     },
     "execution_count": 8,
     "metadata": {},
     "output_type": "execute_result"
    }
   ],
   "source": [
    "WashingtonDC[\"Neighborhood\"].count()"
   ]
  },
  {
   "cell_type": "markdown",
   "metadata": {},
   "source": [
    "<p>So after cleaning the table there are 91 Neighborhood in Washington D.C</p>"
   ]
  },
  {
   "cell_type": "markdown",
   "metadata": {},
   "source": [
    "<p>Values in the ward column should be renamed as they are not really clear</p>"
   ]
  },
  {
   "cell_type": "code",
   "execution_count": 9,
   "metadata": {},
   "outputs": [
    {
     "data": {
      "text/html": [
       "<div>\n",
       "<style scoped>\n",
       "    .dataframe tbody tr th:only-of-type {\n",
       "        vertical-align: middle;\n",
       "    }\n",
       "\n",
       "    .dataframe tbody tr th {\n",
       "        vertical-align: top;\n",
       "    }\n",
       "\n",
       "    .dataframe thead th {\n",
       "        text-align: right;\n",
       "    }\n",
       "</style>\n",
       "<table border=\"1\" class=\"dataframe\">\n",
       "  <thead>\n",
       "    <tr style=\"text-align: right;\">\n",
       "      <th></th>\n",
       "      <th>Neighborhood</th>\n",
       "      <th>Latitude</th>\n",
       "      <th>Longitude</th>\n",
       "      <th>Ward</th>\n",
       "    </tr>\n",
       "  </thead>\n",
       "  <tbody>\n",
       "    <tr>\n",
       "      <th>0</th>\n",
       "      <td>Fort Stanton</td>\n",
       "      <td>-76.980348</td>\n",
       "      <td>38.855658</td>\n",
       "      <td>Ward 7 Councilmember: Vince Gray</td>\n",
       "    </tr>\n",
       "    <tr>\n",
       "      <th>1</th>\n",
       "      <td>Congress Heights</td>\n",
       "      <td>-76.997950</td>\n",
       "      <td>38.841077</td>\n",
       "      <td>Ward 8 Councilmember: Trayon White</td>\n",
       "    </tr>\n",
       "    <tr>\n",
       "      <th>2</th>\n",
       "      <td>Washington Highlands</td>\n",
       "      <td>-76.995636</td>\n",
       "      <td>38.830237</td>\n",
       "      <td>Ward 8 Councilmember: Trayon White</td>\n",
       "    </tr>\n",
       "    <tr>\n",
       "      <th>3</th>\n",
       "      <td>Bellevue</td>\n",
       "      <td>-77.009271</td>\n",
       "      <td>38.826952</td>\n",
       "      <td>Ward 8 Councilmember: Trayon White</td>\n",
       "    </tr>\n",
       "    <tr>\n",
       "      <th>6</th>\n",
       "      <td>Douglass</td>\n",
       "      <td>-76.979645</td>\n",
       "      <td>38.847571</td>\n",
       "      <td>Ward 8 Councilmember: Trayon White</td>\n",
       "    </tr>\n",
       "    <tr>\n",
       "      <th>7</th>\n",
       "      <td>Woodland</td>\n",
       "      <td>-76.973926</td>\n",
       "      <td>38.856554</td>\n",
       "      <td>Ward 8 Councilmember: Trayon White</td>\n",
       "    </tr>\n",
       "    <tr>\n",
       "      <th>8</th>\n",
       "      <td>Garfield Heights</td>\n",
       "      <td>-76.972213</td>\n",
       "      <td>38.854085</td>\n",
       "      <td>Ward 8 Councilmember: Trayon White</td>\n",
       "    </tr>\n",
       "    <tr>\n",
       "      <th>10</th>\n",
       "      <td>Capitol Hill</td>\n",
       "      <td>-76.998477</td>\n",
       "      <td>38.883621</td>\n",
       "      <td>Ward 6 Councilmember: Charles Allen</td>\n",
       "    </tr>\n",
       "    <tr>\n",
       "      <th>11</th>\n",
       "      <td>Dupont Park</td>\n",
       "      <td>-76.962818</td>\n",
       "      <td>38.872630</td>\n",
       "      <td>Ward 7 Councilmember: Vince Gray</td>\n",
       "    </tr>\n",
       "    <tr>\n",
       "      <th>12</th>\n",
       "      <td>Twining</td>\n",
       "      <td>-76.960847</td>\n",
       "      <td>38.875588</td>\n",
       "      <td>Ward 7 Councilmember: Vince Gray</td>\n",
       "    </tr>\n",
       "    <tr>\n",
       "      <th>13</th>\n",
       "      <td>Randle Highlands</td>\n",
       "      <td>-76.965804</td>\n",
       "      <td>38.869336</td>\n",
       "      <td>Ward 7 Councilmember: Vince Gray</td>\n",
       "    </tr>\n",
       "    <tr>\n",
       "      <th>14</th>\n",
       "      <td>Fairlawn</td>\n",
       "      <td>-76.977452</td>\n",
       "      <td>38.869158</td>\n",
       "      <td>Ward 8 Councilmember: Trayon White</td>\n",
       "    </tr>\n",
       "    <tr>\n",
       "      <th>15</th>\n",
       "      <td>Penn Branch</td>\n",
       "      <td>-76.953424</td>\n",
       "      <td>38.869560</td>\n",
       "      <td>Ward 7 Councilmember: Vince Gray</td>\n",
       "    </tr>\n",
       "    <tr>\n",
       "      <th>16</th>\n",
       "      <td>Barry Farm</td>\n",
       "      <td>-76.997281</td>\n",
       "      <td>38.859255</td>\n",
       "      <td>Ward 8 Councilmember: Trayon White</td>\n",
       "    </tr>\n",
       "    <tr>\n",
       "      <th>18</th>\n",
       "      <td>Columbia Heights</td>\n",
       "      <td>-77.030586</td>\n",
       "      <td>38.928008</td>\n",
       "      <td>Ward 1 : Councilmember</td>\n",
       "    </tr>\n",
       "    <tr>\n",
       "      <th>22</th>\n",
       "      <td>Forest Hills</td>\n",
       "      <td>-77.058462</td>\n",
       "      <td>38.946893</td>\n",
       "      <td>Ward 3 Councilmember: Mary Cheh</td>\n",
       "    </tr>\n",
       "    <tr>\n",
       "      <th>25</th>\n",
       "      <td>Fort Totten</td>\n",
       "      <td>-77.008128</td>\n",
       "      <td>38.949430</td>\n",
       "      <td>Ward 5 Councilmember: Kenyan McDuffie</td>\n",
       "    </tr>\n",
       "    <tr>\n",
       "      <th>26</th>\n",
       "      <td>Pleasant Hill</td>\n",
       "      <td>-77.004804</td>\n",
       "      <td>38.941079</td>\n",
       "      <td>Ward 5 Councilmember: Kenyan McDuffie</td>\n",
       "    </tr>\n",
       "    <tr>\n",
       "      <th>27</th>\n",
       "      <td>Kenilworth</td>\n",
       "      <td>-76.938586</td>\n",
       "      <td>38.910679</td>\n",
       "      <td>Ward 7 Councilmember: Vince Gray</td>\n",
       "    </tr>\n",
       "    <tr>\n",
       "      <th>28</th>\n",
       "      <td>Eastland Gardens</td>\n",
       "      <td>-76.943070</td>\n",
       "      <td>38.905329</td>\n",
       "      <td>Ward 7 Councilmember: Vince Gray</td>\n",
       "    </tr>\n",
       "  </tbody>\n",
       "</table>\n",
       "</div>"
      ],
      "text/plain": [
       "            Neighborhood   Latitude  Longitude  \\\n",
       "0           Fort Stanton -76.980348  38.855658   \n",
       "1       Congress Heights -76.997950  38.841077   \n",
       "2   Washington Highlands -76.995636  38.830237   \n",
       "3               Bellevue -77.009271  38.826952   \n",
       "6               Douglass -76.979645  38.847571   \n",
       "7               Woodland -76.973926  38.856554   \n",
       "8       Garfield Heights -76.972213  38.854085   \n",
       "10          Capitol Hill -76.998477  38.883621   \n",
       "11           Dupont Park -76.962818  38.872630   \n",
       "12               Twining -76.960847  38.875588   \n",
       "13      Randle Highlands -76.965804  38.869336   \n",
       "14              Fairlawn -76.977452  38.869158   \n",
       "15           Penn Branch -76.953424  38.869560   \n",
       "16            Barry Farm -76.997281  38.859255   \n",
       "18      Columbia Heights -77.030586  38.928008   \n",
       "22          Forest Hills -77.058462  38.946893   \n",
       "25           Fort Totten -77.008128  38.949430   \n",
       "26         Pleasant Hill -77.004804  38.941079   \n",
       "27            Kenilworth -76.938586  38.910679   \n",
       "28      Eastland Gardens -76.943070  38.905329   \n",
       "\n",
       "                                     Ward  \n",
       "0        Ward 7 Councilmember: Vince Gray  \n",
       "1      Ward 8 Councilmember: Trayon White  \n",
       "2      Ward 8 Councilmember: Trayon White  \n",
       "3      Ward 8 Councilmember: Trayon White  \n",
       "6      Ward 8 Councilmember: Trayon White  \n",
       "7      Ward 8 Councilmember: Trayon White  \n",
       "8      Ward 8 Councilmember: Trayon White  \n",
       "10    Ward 6 Councilmember: Charles Allen  \n",
       "11       Ward 7 Councilmember: Vince Gray  \n",
       "12       Ward 7 Councilmember: Vince Gray  \n",
       "13       Ward 7 Councilmember: Vince Gray  \n",
       "14     Ward 8 Councilmember: Trayon White  \n",
       "15       Ward 7 Councilmember: Vince Gray  \n",
       "16     Ward 8 Councilmember: Trayon White  \n",
       "18                 Ward 1 : Councilmember  \n",
       "22        Ward 3 Councilmember: Mary Cheh  \n",
       "25  Ward 5 Councilmember: Kenyan McDuffie  \n",
       "26  Ward 5 Councilmember: Kenyan McDuffie  \n",
       "27       Ward 7 Councilmember: Vince Gray  \n",
       "28       Ward 7 Councilmember: Vince Gray  "
      ]
     },
     "execution_count": 9,
     "metadata": {},
     "output_type": "execute_result"
    }
   ],
   "source": [
    "WashingtonDC['Ward'] = WashingtonDC['Ward'].replace(['Ward 1'],'Ward 1 : Councilmember')\n",
    "WashingtonDC['Ward'] = WashingtonDC['Ward'].replace(['Ward 2'],'Ward 2 Councilmember: Brooke Pinto')\n",
    "WashingtonDC['Ward'] = WashingtonDC['Ward'].replace(['Ward 3'],'Ward 3 Councilmember: Mary Cheh')\n",
    "WashingtonDC['Ward'] = WashingtonDC['Ward'].replace(['Ward 4'],'Ward 4 Councilmember: Janeese Lewis George')\n",
    "WashingtonDC['Ward'] = WashingtonDC['Ward'].replace(['Ward 5'],'Ward 5 Councilmember: Kenyan McDuffie')\n",
    "WashingtonDC['Ward'] = WashingtonDC['Ward'].replace(['Ward 6'],'Ward 6 Councilmember: Charles Allen')\n",
    "WashingtonDC['Ward'] = WashingtonDC['Ward'].replace(['Ward 7'],'Ward 7 Councilmember: Vince Gray')\n",
    "WashingtonDC['Ward'] = WashingtonDC['Ward'].replace(['Ward 8'],'Ward 8 Councilmember: Trayon White')\n",
    "WashingtonDC.head(20)"
   ]
  },
  {
   "cell_type": "markdown",
   "metadata": {},
   "source": [
    "<p> So , now the names of the Wards of Washington D.C are clear</p>"
   ]
  },
  {
   "cell_type": "markdown",
   "metadata": {},
   "source": [
    "<h3>Visualizing Washington D.C data</h3>"
   ]
  },
  {
   "cell_type": "markdown",
   "metadata": {},
   "source": [
    "<p>Data will be visualized using a bar chart"
   ]
  },
  {
   "cell_type": "code",
   "execution_count": 10,
   "metadata": {},
   "outputs": [
    {
     "data": {
      "image/png": "[encoded data removed]",
      "text/plain": [
       "<Figure size 432x288 with 1 Axes>"
      ]
     },
     "metadata": {
      "needs_background": "light"
     },
     "output_type": "display_data"
    }
   ],
   "source": [
    "\n",
    "plt.title('Washington D.C Neighborhoods')\n",
    "\n",
    "plt.xlabel('Wards')\n",
    "\n",
    "plt.ylabel('Number of Neighborhood')\n",
    "#\n",
    "WashingtonDC.groupby('Ward')['Neighborhood'].count().plot(kind='bar',color = \"indigo\")\n",
    "plt.legend()\n",
    "#displays the plot\n",
    "plt.show()"
   ]
  },
  {
   "cell_type": "code",
   "execution_count": 11,
   "metadata": {},
   "outputs": [
    {
     "data": {
      "image/png": "[encoded data removed]",
      "text/plain": [
       "<Figure size 432x288 with 1 Axes>"
      ]
     },
     "metadata": {},
     "output_type": "display_data"
    }
   ],
   "source": [
    "#WashingtonDC.groupby('Ward')['Neighborhood'].count().plot(kind='bar',color = \"indigo\")\n",
    "neighborhood = WashingtonDC.groupby('Ward')['Neighborhood'].count()\n",
    "\n",
    "neighborhood = list(neighborhood)\n",
    "\n",
    "mylabels = [\"Ward 1 : Councilmember\", \"Ward 2 Councilmember: Brooke Pinto\", \"Ward 3 Councilmember: Mary Cheh\", \"Ward 4 Councilmember: Janeese Lewis George\",\"Ward 5 Councilmember: Kenyan McDuffie\", \"Ward 6 Councilmember: Charles Allens\", \"Ward 7 Councilmember: Vince Gray\", \"Ward 8 Councilmember: Trayon White\"]\n",
    "\n",
    "plt.pie(neighborhood, labels = mylabels,autopct='%1.1f%%',textprops={'fontsize': 10})\n",
    "plt.legend(title = \"Wards:\",bbox_to_anchor=(0.00, 1.6))\n",
    "plt.show()\n"
   ]
  },
  {
   "cell_type": "markdown",
   "metadata": {},
   "source": [
    "<p>And this is a pie chart to show the information</p>"
   ]
  },
  {
   "cell_type": "markdown",
   "metadata": {},
   "source": [
    "<p>So from these charts , we know that Ward 7 Councilmember: Vince Gray contains the most amount of Neighborhoods</p>\n",
    "<p>And Ward 6 Councilmember: Charles Allen contains the least amount of Neighborhoods</p>"
   ]
  },
  {
   "cell_type": "markdown",
   "metadata": {},
   "source": [
    "<h3>FourSquare API Functions</h3>"
   ]
  },
  {
   "cell_type": "code",
   "execution_count": 12,
   "metadata": {},
   "outputs": [],
   "source": [
    "#function to extract data from foursquare API\n",
    "def venue_data(lat,lng):\n",
    "\n",
    "    #url to fetch data from foursquare api\n",
    "    url = 'https://api.foursquare.com/v2/venues/explore?&client_id={}&client_secret={}&v={}&ll={},{}&radius={}&limit={}'.format(\n",
    "            CLIENT_ID, \n",
    "            CLIENT_SECRET, \n",
    "            VERSION, \n",
    "            lat, \n",
    "            lng, \n",
    "            2000, \n",
    "            LIMIT)\n",
    "    \n",
    "    res = requests.get(url).json()\n",
    "    venueData=results[\"response\"]['groups'][0]['items']\n",
    "    venueDetails=[]\n",
    "    for row in neighborhoods_data:\n",
    "        try:\n",
    "            venueId=row['venue']['id']\n",
    "            venueName=row['venue']['name']\n",
    "            venueneCategory=row['venue']['categories'][0]['name']\n",
    "            venueDetails.append([venueId,venueName,venueCategory])\n",
    "        except KeyError:\n",
    "            pass\n",
    "        \n",
    "    column_names=['ID','Name','Category']\n",
    "    df = pd.DataFrame(venueDetails,columns=column_names)\n",
    "    return df"
   ]
  },
  {
   "cell_type": "code",
   "execution_count": 13,
   "metadata": {},
   "outputs": [],
   "source": [
    "#Function to get more details from foursquare API\n",
    "\n",
    "def venue_details(venueId):\n",
    "    #url to fetch data from foursquare api\n",
    "    url = 'https://api.foursquare.com/v2/venues/{}?&client_id={}&client_secret={}&v={}'.format(\n",
    "            neighborhoods_id,\n",
    "            CLIENT_ID, \n",
    "            CLIENT_SECRET, \n",
    "            VERSION)\n",
    "    \n",
    "    # get all the data\n",
    "    results = requests.get(url).json()\n",
    "    venueData=results['response']['venue']\n",
    "    venueDetails=[]\n",
    "    try:\n",
    "        venueId=neighborhoods_data['id']\n",
    "        venueName=neighborhoods_data['name']\n",
    "        venueRating=neighborhoods_data['rating']\n",
    "        venueDetails.append([venueId,venueName,venueRating])\n",
    "    except KeyError:\n",
    "        pass\n",
    "        \n",
    "    venue_details=['ID','Name','Rating']\n",
    "    df = pd.DataFrame(neighborhoods_details,columns=column_names)\n",
    "    return df"
   ]
  },
  {
   "cell_type": "markdown",
   "metadata": {},
   "source": [
    "<h3>Map</h3>"
   ]
  },
  {
   "cell_type": "code",
   "execution_count": 14,
   "metadata": {},
   "outputs": [],
   "source": [
    "#Location function\n",
    "\n",
    "def location(address):\n",
    "    # get geo location of address\n",
    "    geolocator = Nominatim(user_agent=\"ny_explorer\")\n",
    "    location = geolocator.geocode(address)\n",
    "    lat = location.latitude\n",
    "    long = location.longitude\n",
    "    return lat,long"
   ]
  },
  {
   "cell_type": "code",
   "execution_count": 15,
   "metadata": {},
   "outputs": [],
   "source": [
    "ny_map = folium.Map(location=location('Washington,DC'), zoom_start=12)"
   ]
  },
  {
   "cell_type": "code",
   "execution_count": 19,
   "metadata": {},
   "outputs": [],
   "source": [
    "\n",
    "incidents = folium.map.FeatureGroup()\n",
    "\n",
    "for lat, lng, in zip(washingtonDC_data()['Latitude'],washingtonDC_data()['Longitude']):\n",
    "    incidents.add_child(\n",
    "        folium.CircleMarker(\n",
    "            [lat, lng],\n",
    "            radius=15, \n",
    "            color='blue',\n",
    "            fill=True,\n",
    "            fill_color='black',\n",
    "            fill_opacity=0.7\n",
    "        )\n",
    "    )"
   ]
  },
  {
   "cell_type": "markdown",
   "metadata": {},
   "source": [
    "## Conclusion <a name=\"conclusion\"></a>"
   ]
  },
  {
   "cell_type": "markdown",
   "metadata": {},
   "source": [
    "<hp>Data about different neighborhoods have been explored</hp>"
   ]
  },
  {
   "cell_type": "code",
   "execution_count": null,
   "metadata": {},
   "outputs": [],
   "source": []
  }
 ],
 "metadata": {
  "kernelspec": {
   "display_name": "Python 3",
   "language": "python",
   "name": "python3"
  },
  "language_info": {
   "codemirror_mode": {
    "name": "ipython",
    "version": 3
   },
   "file_extension": ".py",
   "mimetype": "text/x-python",
   "name": "python",
   "nbconvert_exporter": "python",
   "pygments_lexer": "ipython3",
   "version": "3.7.6"
  }
 },
 "nbformat": 4,
 "nbformat_minor": 4
}
